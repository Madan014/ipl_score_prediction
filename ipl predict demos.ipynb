{
 "cells": [
  {
   "cell_type": "code",
   "execution_count": 2,
   "id": "71c08e7b",
   "metadata": {},
   "outputs": [
    {
     "name": "stdout",
     "output_type": "stream",
     "text": [
      "******************** welcome to the predictions apps ********************\n"
     ]
    }
   ],
   "source": [
    "import pandas as pd\n",
    "import numpy as np\n",
    "import pickle\n",
    "print(\"******************** welcome to the predictions apps ********************\")"
   ]
  },
  {
   "cell_type": "code",
   "execution_count": 14,
   "id": "7c65016c",
   "metadata": {},
   "outputs": [],
   "source": [
    "batting_team=['Rajasthan Royals', 'Kings XI Punjab', 'Sunrisers Hyderabad',\n",
    "       'Kolkata Knight Riders', 'Royal Challengers Bangalore',\n",
    "       'Chennai Super Kings', 'Mumbai Indians', 'Delhi Capitals',\n",
    "       'Deccan Chargers', 'Delhi Daredevils']\n",
    "bollwoing_team=['Rajasthan Royals', 'Kings XI Punjab', 'Sunrisers Hyderabad',\n",
    "       'Kolkata Knight Riders', 'Royal Challengers Bangalore',\n",
    "       'Chennai Super Kings', 'Mumbai Indians', 'Delhi Capitals',\n",
    "       'Deccan Chargers', 'Delhi Daredevils']\n",
    "\n",
    "city=['Chandigarh', 'Kolkata', 'Mohali', 'Delhi', 'Ahmedabad', 'Mumbai',\n",
    "       'Jaipur', 'Bangalore', 'Chennai', 'Hyderabad', 'Visakhapatnam',\n",
    "       'Bengaluru', 'Dharamsala', 'Indore', 'Johannesburg', 'Cuttack',\n",
    "       'Ranchi', 'Raipur', 'Cape Town', 'Durban', 'Centurion', 'Sharjah',\n",
    "       'Kimberley', 'Port Elizabeth', 'Abu Dhabi', 'Pune', 'East London',\n",
    "       'Bloemfontein', 'Nagpur']"
   ]
  },
  {
   "cell_type": "code",
   "execution_count": 15,
   "id": "cb192d79",
   "metadata": {},
   "outputs": [
    {
     "data": {
      "text/plain": [
       "list"
      ]
     },
     "execution_count": 15,
     "metadata": {},
     "output_type": "execute_result"
    }
   ],
   "source": [
    "type(batting_team)"
   ]
  },
  {
   "cell_type": "code",
   "execution_count": 9,
   "id": "931e618c",
   "metadata": {},
   "outputs": [
    {
     "name": "stdout",
     "output_type": "stream",
     "text": [
      "--> Chandigarh\n",
      "--> Kolkata\n",
      "--> Mohali\n",
      "--> Delhi\n",
      "--> Ahmedabad\n",
      "--> Mumbai\n",
      "--> Jaipur\n",
      "--> Bangalore\n",
      "--> Chennai\n",
      "--> Hyderabad\n",
      "--> Visakhapatnam\n",
      "--> Bengaluru\n",
      "--> Dharamsala\n",
      "--> Indore\n",
      "--> Johannesburg\n",
      "--> Cuttack\n",
      "--> Ranchi\n",
      "--> Raipur\n",
      "--> Cape Town\n",
      "--> Durban\n",
      "--> Centurion\n",
      "--> Sharjah\n",
      "--> Kimberley\n",
      "--> Port Elizabeth\n",
      "--> Abu Dhabi\n",
      "--> Pune\n",
      "--> East London\n",
      "--> Bloemfontein\n",
      "--> Nagpur\n"
     ]
    }
   ],
   "source": [
    "for i in city:\n",
    "    print('-->',i)"
   ]
  },
  {
   "cell_type": "code",
   "execution_count": 33,
   "id": "b1a87b85",
   "metadata": {},
   "outputs": [
    {
     "name": "stdout",
     "output_type": "stream",
     "text": [
      "********** Welcome To ipl prediction ***************\n",
      "\n",
      " 1-->See the Teams \n",
      "              2--> See the Cities \n",
      "              3-->predicts\n",
      "              4--> Exit\n",
      "Enter your choice :3\n",
      "_______ Welcome To prediction Game ________________\n",
      "\n",
      "Enter the batting Team : Mumbai Indians\n",
      "Enter the bowwling Team : Royal Challengers Bangalore\n",
      "Enter the City : Bengaluru\n",
      "Enter the Target Score : 190\n",
      "Enter the Scoress : 140\n",
      "Enter the over Completed : 13\n",
      "Enter the Wicket Out : 2\n",
      "\n",
      "________________________  Resuults __________________\n",
      "\n",
      "Winning percentage of Mumbai Indians : 95.34  %\n",
      "Loosing percentage of Royal Challengers Bangalore : 4.66 % \n",
      "___________________________________________________________________________________\n",
      "********** Welcome To ipl prediction ***************\n",
      "\n",
      " 1-->See the Teams \n",
      "              2--> See the Cities \n",
      "              3-->predicts\n",
      "              4--> Exit\n",
      "Enter your choice :3\n",
      "_______ Welcome To prediction Game ________________\n",
      "\n",
      "Enter the batting Team : Delhi Capitals\n",
      "Enter the bowwling Team : Kolkata Knight Riders\n",
      "Enter the City : Bengaluru\n",
      "Enter the Target Score : 190\n",
      "Enter the Scoress : 115\n",
      "Enter the over Completed : 10\n",
      "Enter the Wicket Out : 5\n",
      "\n",
      "________________________  Resuults __________________\n",
      "\n",
      "Winning percentage of Delhi Capitals : 71.71  %\n",
      "Loosing percentage of Kolkata Knight Riders : 28.29 % \n",
      "___________________________________________________________________________________\n",
      "********** Welcome To ipl prediction ***************\n",
      "\n",
      " 1-->See the Teams \n",
      "              2--> See the Cities \n",
      "              3-->predicts\n",
      "              4--> Exit\n",
      "Enter your choice :3\n",
      "_______ Welcome To prediction Game ________________\n",
      "\n",
      "Enter the batting Team : Delhi Capitals\n",
      "Enter the bowwling Team : Kolkata Knight Riders\n",
      "Enter the City : Bengaluru\n",
      "Enter the Target Score : 190\n",
      "Enter the Scoress : 115\n",
      "Enter the over Completed : 10\n",
      "Enter the Wicket Out : 8\n",
      "\n",
      "________________________  Resuults __________________\n",
      "\n",
      "Winning percentage of Delhi Capitals : 27.16  %\n",
      "Loosing percentage of Kolkata Knight Riders : 72.84 % \n",
      "___________________________________________________________________________________\n",
      "********** Welcome To ipl prediction ***************\n",
      "\n",
      " 1-->See the Teams \n",
      "              2--> See the Cities \n",
      "              3-->predicts\n",
      "              4--> Exit\n",
      "Enter your choice :4\n",
      " **************Thank You For Predections ***********\n"
     ]
    }
   ],
   "source": [
    "def see_teams():\n",
    "    for i in batting_team:\n",
    "        print('-->',i)\n",
    "    print(\"\\n\\n\")\n",
    "    \n",
    "def see_cities():\n",
    "    for i in city:\n",
    "        print('-->',i)\n",
    "    print(\"\\n\\n\")\n",
    "\n",
    "def predict():\n",
    "    print(\"_______ Welcome To prediction Game ________________\\n\")\n",
    "    bat_team=input(\"Enter the batting Team : \")\n",
    "    bow_team=input(\"Enter the bowwling Team : \")\n",
    "    city=input(\"Enter the City : \")\n",
    "    targets=int(input(\"Enter the Target Score : \"))\n",
    "    score=int(input(\"Enter the Scoress : \"))\n",
    "    over_comp=int(input(\"Enter the over Completed : \"))\n",
    "    wick_out=int(input(\"Enter the Wicket Out : \"))\n",
    "    runs_left=targets-score\n",
    "    balls_left=120-(over_comp*6)\n",
    "    wickets=10-wick_out\n",
    "    crr=score/over_comp\n",
    "    rrr=(runs_left*6)/balls_left\n",
    "    # make the dtaaframes of this dats \n",
    "    input_df=pd.DataFrame({'batting_team':[bat_team],'bowling_team':[bow_team],'city':[city],\n",
    "                          'runs_left':[runs_left],'balls_left':[balls_left],'wickets':[wickets],\n",
    "                          'total_runs_x':[ targets],'crr':[crr],'rrr':[rrr]})\n",
    "    pipe=pickle.load(open('E:\\\\6th semmmm\\\\ml datas\\\\logistic.pkl','rb'))\n",
    "    result=pipe.predict_proba(input_df)\n",
    "    loss=np.round(result[0][0]*100,2)\n",
    "    win=np.round(result[0][1]*100,2)\n",
    "    print(\"\\n________________________  Resuults __________________\\n\")\n",
    "    print(f\"Winning percentage of {bat_team} : {win}  %\")\n",
    "    print(f\"Loosing percentage of {bow_team} : {loss} % \")\n",
    "    print('___________________________________________________________________________________')\n",
    "        \n",
    "flag=True         \n",
    "while flag:\n",
    "    print(\"********** Welcome To ipl prediction ***************\\n\")\n",
    "    print(\"\"\" 1-->See the Teams \n",
    "              2--> See the Cities \n",
    "              3-->predicts\n",
    "              4--> Exit\"\"\")\n",
    "    user_inp=input(\"Enter your choice :\")\n",
    "    if user_inp=='1':\n",
    "        print(\"\\n_________________IPL  Teams _________________\\n\")\n",
    "        see_teams()\n",
    "    elif user_inp=='2':\n",
    "        print(\"\\n____________________ Cities ____________________\\n\")\n",
    "        see_cities()\n",
    "       \n",
    "    elif user_inp=='3':\n",
    "        predict()\n",
    "     \n",
    "    elif user_inp=='4':\n",
    "        flag=False\n",
    "        print(\" **************Thank You For Predections ***********\")\n",
    "    else:\n",
    "        print(\"USER INPUT VALIDITY\")"
   ]
  },
  {
   "cell_type": "code",
   "execution_count": null,
   "id": "e4699620",
   "metadata": {},
   "outputs": [],
   "source": []
  },
  {
   "cell_type": "code",
   "execution_count": null,
   "id": "8a075db4",
   "metadata": {},
   "outputs": [],
   "source": []
  },
  {
   "cell_type": "code",
   "execution_count": null,
   "id": "328ac705",
   "metadata": {},
   "outputs": [],
   "source": []
  },
  {
   "cell_type": "code",
   "execution_count": null,
   "id": "f71eb5c2",
   "metadata": {},
   "outputs": [],
   "source": []
  },
  {
   "cell_type": "code",
   "execution_count": null,
   "id": "e2682c06",
   "metadata": {},
   "outputs": [],
   "source": []
  },
  {
   "cell_type": "code",
   "execution_count": null,
   "id": "2607b5aa",
   "metadata": {},
   "outputs": [],
   "source": []
  },
  {
   "cell_type": "code",
   "execution_count": null,
   "id": "53118f2f",
   "metadata": {},
   "outputs": [],
   "source": []
  },
  {
   "cell_type": "code",
   "execution_count": null,
   "id": "67975e70",
   "metadata": {},
   "outputs": [],
   "source": []
  },
  {
   "cell_type": "code",
   "execution_count": null,
   "id": "31e4dd56",
   "metadata": {},
   "outputs": [],
   "source": []
  }
 ],
 "metadata": {
  "kernelspec": {
   "display_name": "Python 3 (ipykernel)",
   "language": "python",
   "name": "python3"
  },
  "language_info": {
   "codemirror_mode": {
    "name": "ipython",
    "version": 3
   },
   "file_extension": ".py",
   "mimetype": "text/x-python",
   "name": "python",
   "nbconvert_exporter": "python",
   "pygments_lexer": "ipython3",
   "version": "3.12.6"
  }
 },
 "nbformat": 4,
 "nbformat_minor": 5
}
